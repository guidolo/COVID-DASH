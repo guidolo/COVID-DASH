{
 "cells": [
  {
   "cell_type": "code",
   "execution_count": 1,
   "metadata": {},
   "outputs": [
    {
     "name": "stdout",
     "output_type": "stream",
     "text": [
      "/Users/guidosidoni/opt/anaconda3/envs/develop/bin/python\n"
     ]
    }
   ],
   "source": [
    "!which python"
   ]
  },
  {
   "cell_type": "code",
   "execution_count": 176,
   "metadata": {},
   "outputs": [],
   "source": [
    "import pandas as pd\n",
    "import numpy as np\n",
    "import matplotlib.pyplot as plt\n",
    "import datetime\n",
    "from datetime import timedelta"
   ]
  },
  {
   "cell_type": "code",
   "execution_count": 177,
   "metadata": {},
   "outputs": [],
   "source": [
    "\n",
    "df_c = pd.read_csv('https://raw.githubusercontent.com/CSSEGISandData/COVID-19/master/csse_covid_19_data/csse_covid_19_time_series/time_series_covid19_confirmed_global.csv')\n",
    "df_d = pd.read_csv('https://raw.githubusercontent.com/CSSEGISandData/COVID-19/master/csse_covid_19_data/csse_covid_19_time_series/time_series_covid19_deaths_global.csv')\n",
    "df_r = pd.read_csv('https://raw.githubusercontent.com/CSSEGISandData/COVID-19/master/csse_covid_19_data/csse_covid_19_time_series/time_series_covid19_recovered_global.csv')\n",
    "def make_data(df):\n",
    "    df.set_index(['Province/State', 'Country/Region', 'Lat', 'Long'], inplace=True)\n",
    "    df = (df.\n",
    "         stack().\n",
    "        reset_index().\n",
    "        rename(columns={'level_4':'issue_date', 0:'cant', 'Country/Region':'Country'})\n",
    "    )\n",
    "    df = df.groupby(['Country','issue_date']).sum().drop(['Lat','Long'], axis=1).reset_index()\n",
    "    df.issue_date = pd.to_datetime(df.issue_date)\n",
    "    df = df.set_index(['issue_date','Country']).unstack()\n",
    "    df = df.loc[:, 'cant']\n",
    "    return df"
   ]
  },
  {
   "cell_type": "code",
   "execution_count": 178,
   "metadata": {},
   "outputs": [],
   "source": [
    "df_c = make_data(df_c)\n",
    "df_d = make_data(df_d)\n",
    "df_r = make_data(df_r)\n",
    "df_rate = (df_d / df_c).fillna(0).replace(np.inf, 0)\n",
    "df_act = df_c - df_d - df_r"
   ]
  },
  {
   "cell_type": "code",
   "execution_count": 179,
   "metadata": {},
   "outputs": [],
   "source": [
    "import statsmodels.api as sm\n",
    "def OLS_summary(x_data):\n",
    "    x_data = temp.days.values\n",
    "    X = sm.add_constant(x_data)\n",
    "    mod = sm.OLS(np.log(y_data), X)\n",
    "    res = mod.fit()\n",
    "    print(res.summary())"
   ]
  },
  {
   "cell_type": "code",
   "execution_count": 180,
   "metadata": {},
   "outputs": [],
   "source": [
    "import json\n",
    "import requests\n",
    "import numpy as np\n",
    "import pandas as pd \n",
    "\n",
    "def daterange(start_date, N=5):\n",
    "    #start_date = datetime.fromisoformat(start_date)\n",
    "    start_date = date(int(start_date[:4]), int(start_date[6:7]), int(start_date[8:10]))\n",
    "    for n in range(0, N):\n",
    "        start_part = start_date + timedelta(days=n)\n",
    "        yield start_part.strftime(\"%Y-%m-%d\")\n",
    "\n",
    "\n",
    "\n",
    "def get_covid19_data():\n",
    "    alldata = []\n",
    "    \n",
    "    prefix_url = 'https://covidapi.hackfunrosario.com/api/getStatByFecha/'\n",
    "    allresponse = []\n",
    "    for date_report in daterange('2020-03-01', N=60):\n",
    "        url = prefix_url + date_report\n",
    "        response = requests.get(url)\n",
    "        if len(allresponse) == 0:\n",
    "            allresponse = pd.DataFrame(json.loads(response.text).get('data'))\n",
    "        else:\n",
    "            allresponse = pd.concat([allresponse, pd.DataFrame(json.loads(response.text).get('data'))])\n",
    "    return allresponse"
   ]
  },
  {
   "cell_type": "code",
   "execution_count": 167,
   "metadata": {},
   "outputs": [],
   "source": [
    "response = get_covid19_data()"
   ]
  },
  {
   "cell_type": "code",
   "execution_count": 175,
   "metadata": {},
   "outputs": [
    {
     "data": {
      "text/plain": [
       "array([None, 'CABA', 'Indeterminado', 'Buenos Aires', 'xx', 'Río Negro',\n",
       "       'Chaco', 'San Luis', 'Tierra Del Fuego', 'Santa Cruz',\n",
       "       'Entre Ríos', 'Salta', 'Jujuy', 'Córdoba', 'Santa Fe', 'Tucumán',\n",
       "       'Santiago Del Estero', 'Neuquén', 'Corrientes', 'Mendoza',\n",
       "       'Misiones', 'La Pampa', 'Tierra del Fuego', 'Santiago del Estero',\n",
       "       'La Rioja', 'San Juan'], dtype=object)"
      ]
     },
     "execution_count": 175,
     "metadata": {},
     "output_type": "execute_result"
    }
   ],
   "source": [
    "response.provincia.unique()"
   ]
  },
  {
   "cell_type": "code",
   "execution_count": null,
   "metadata": {},
   "outputs": [],
   "source": []
  }
 ],
 "metadata": {
  "kernelspec": {
   "display_name": "Python 3",
   "language": "python",
   "name": "python3"
  },
  "language_info": {
   "codemirror_mode": {
    "name": "ipython",
    "version": 3
   },
   "file_extension": ".py",
   "mimetype": "text/x-python",
   "name": "python",
   "nbconvert_exporter": "python",
   "pygments_lexer": "ipython3",
   "version": "3.8.2"
  }
 },
 "nbformat": 4,
 "nbformat_minor": 4
}
