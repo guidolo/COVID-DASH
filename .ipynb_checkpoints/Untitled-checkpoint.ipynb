{
 "cells": [
  {
   "cell_type": "code",
   "execution_count": 1,
   "metadata": {},
   "outputs": [
    {
     "name": "stdout",
     "output_type": "stream",
     "text": [
      "/Users/guidosidoni/opt/anaconda3/envs/develop/bin/python\n"
     ]
    }
   ],
   "source": [
    "!which python"
   ]
  },
  {
   "cell_type": "code",
   "execution_count": 18,
   "metadata": {},
   "outputs": [],
   "source": [
    "import pandas as pd\n",
    "import numpy as np\n",
    "import matplotlib.pyplot as plt"
   ]
  },
  {
   "cell_type": "code",
   "execution_count": 3,
   "metadata": {},
   "outputs": [],
   "source": [
    "!cp /Users/guidosidoni/Documents/GitHub/COVID-19/csse_covid_19_data/csse_covid_19_time_series/time_series_19-covid-Confirmed.csv /Users/guidosidoni/Documents/GitHub/COVID-DASH/data/\n",
    "!cp /Users/guidosidoni/Documents/GitHub/COVID-19/csse_covid_19_data/csse_covid_19_time_series/time_series_19-covid-Deaths.csv /Users/guidosidoni/Documents/GitHub/COVID-DASH/data/\n",
    "!cp /Users/guidosidoni/Documents/GitHub/COVID-19/csse_covid_19_data/csse_covid_19_time_series/time_series_19-covid-Recovered.csv /Users/guidosidoni/Documents/GitHub/COVID-DASH/data/"
   ]
  },
  {
   "cell_type": "code",
   "execution_count": 63,
   "metadata": {},
   "outputs": [],
   "source": [
    "c19data = pd.read_csv('./data/time_series_19-covid-Confirmed.csv')\n",
    "c19data_deadth = pd.read_csv('./data/time_series_19-covid-Confirmed.csv')\n",
    "c19data_recov = pd.read_csv('./data/time_series_19-covid-Recovered.csv')"
   ]
  },
  {
   "cell_type": "code",
   "execution_count": 5,
   "metadata": {},
   "outputs": [],
   "source": [
    "df_c = pd.read_csv('./data/time_series_19-covid-Confirmed.csv')\n",
    "df_d = pd.read_csv('./data/time_series_19-covid-Confirmed.csv')\n",
    "df_r = pd.read_csv('./data/time_series_19-covid-Recovered.csv')\n",
    "def make_data(df):\n",
    "    df.set_index(['Province/State', 'Country/Region', 'Lat', 'Long'], inplace=True)\n",
    "    df = (df.\n",
    "         stack().\n",
    "        reset_index().\n",
    "        rename(columns={'level_4':'issue_date', 0:'cant', 'Country/Region':'Country'})\n",
    "    )\n",
    "    df = df.groupby(['Country','issue_date']).sum().drop(['Lat','Long'], axis=1).reset_index()\n",
    "    df.issue_date = pd.to_datetime(df.issue_date)\n",
    "    df = df.set_index(['issue_date','Country']).unstack()\n",
    "    df = df.loc[:, 'cant']\n",
    "    return df"
   ]
  },
  {
   "cell_type": "code",
   "execution_count": 6,
   "metadata": {},
   "outputs": [],
   "source": [
    "    df_c = pd.read_csv('./data/time_series_19-covid-Confirmed.csv')\n",
    "    df_d = pd.read_csv('./data/time_series_19-covid-Deaths.csv')\n",
    "    df_r = pd.read_csv('./data/time_series_19-covid-Recovered.csv')\n",
    "    df_c = make_data(df_c)\n",
    "    df_d = make_data(df_d)\n",
    "    df_r = make_data(df_r)\n"
   ]
  },
  {
   "cell_type": "code",
   "execution_count": 35,
   "metadata": {},
   "outputs": [],
   "source": [
    "def rescale(df, n):\n",
    "    for x in range(0,n):\n",
    "        df = df.reset_index(drop=True).replace(x, np.nan)\n",
    "    for col in df:\n",
    "        if col == 'China'\n",
    "            df.loc[:, col] = pd.concat([df_c['China'].iloc[:-5], pd.DataFrame([0,0,0,0,0], index=[0,0,0,0,0])]).rename(columns={0:'China'}).China.sort_values().reset_index(drop=True)\n",
    "        else:\n",
    "            df.loc[:, col] = df.loc[:,col].sort_values().reset_index(drop=True)\n",
    "    return df"
   ]
  },
  {
   "cell_type": "code",
   "execution_count": 68,
   "metadata": {},
   "outputs": [
    {
     "data": {
      "text/plain": [
       "0         0\n",
       "1         0\n",
       "2         0\n",
       "3         0\n",
       "4         0\n",
       "5       548\n",
       "6       643\n",
       "7       920\n",
       "8      1406\n",
       "9      2075\n",
       "10     2877\n",
       "11     5509\n",
       "12     6087\n",
       "13     8141\n",
       "14     9802\n",
       "15    11891\n",
       "16    16630\n",
       "17    19716\n",
       "18    23707\n",
       "19    27440\n",
       "20    30587\n",
       "21    34110\n",
       "22    36814\n",
       "23    39829\n",
       "24    42354\n",
       "25    44386\n",
       "26    44759\n",
       "27    59895\n",
       "28    66358\n",
       "29    68413\n",
       "30    70513\n",
       "31    72434\n",
       "32    74211\n",
       "33    74619\n",
       "34    75077\n",
       "35    75550\n",
       "36    77001\n",
       "37    77022\n",
       "38    77241\n",
       "39    77754\n",
       "40    78166\n",
       "41    78600\n",
       "42    78928\n",
       "43    79356\n",
       "44    79932\n",
       "45    80136\n",
       "46    80261\n",
       "47    80386\n",
       "48    80537\n",
       "49    80690\n",
       "50    80770\n",
       "51    80823\n",
       "52    80860\n",
       "53    80887\n",
       "54    80921\n",
       "55    80932\n",
       "56    80945\n",
       "Name: China, dtype: int64"
      ]
     },
     "execution_count": 68,
     "metadata": {},
     "output_type": "execute_result"
    }
   ],
   "source": [
    "pd.concat([df_c['China'].iloc[:-5], pd.DataFrame([0,0,0,0,0], index=[0,0,0,0,0])]).rename(columns={0:'China'}).China.sort_values().reset_index(drop=True)\n",
    "temp"
   ]
  },
  {
   "cell_type": "code",
   "execution_count": 53,
   "metadata": {},
   "outputs": [
    {
     "data": {
      "text/plain": [
       "0       548\n",
       "1       643\n",
       "2       920\n",
       "3      1406\n",
       "4      2075\n",
       "5      2877\n",
       "6      5509\n",
       "7      6087\n",
       "8      8141\n",
       "9      9802\n",
       "10    11891\n",
       "11    16630\n",
       "12    19716\n",
       "13    23707\n",
       "14    27440\n",
       "15    30587\n",
       "16    34110\n",
       "17    36814\n",
       "18    39829\n",
       "19    42354\n",
       "20    44386\n",
       "21    44759\n",
       "22    59895\n",
       "23    66358\n",
       "24    68413\n",
       "25    70513\n",
       "26    72434\n",
       "27    74211\n",
       "28    74619\n",
       "29    75077\n",
       "30    75550\n",
       "31    77001\n",
       "32    77022\n",
       "33    77241\n",
       "34    77754\n",
       "35    78166\n",
       "36    78600\n",
       "37    78928\n",
       "38    79356\n",
       "39    79932\n",
       "40    80136\n",
       "41    80261\n",
       "42    80386\n",
       "43    80537\n",
       "44    80690\n",
       "45    80770\n",
       "46    80823\n",
       "47    80860\n",
       "48    80887\n",
       "49    80921\n",
       "50    80932\n",
       "51    80945\n",
       "Name: China, dtype: int64"
      ]
     },
     "execution_count": 53,
     "metadata": {},
     "output_type": "execute_result"
    }
   ],
   "source": []
  },
  {
   "cell_type": "code",
   "execution_count": null,
   "metadata": {},
   "outputs": [],
   "source": []
  }
 ],
 "metadata": {
  "kernelspec": {
   "display_name": "Python 3",
   "language": "python",
   "name": "python3"
  },
  "language_info": {
   "codemirror_mode": {
    "name": "ipython",
    "version": 3
   },
   "file_extension": ".py",
   "mimetype": "text/x-python",
   "name": "python",
   "nbconvert_exporter": "python",
   "pygments_lexer": "ipython3",
   "version": "3.8.2"
  }
 },
 "nbformat": 4,
 "nbformat_minor": 4
}
