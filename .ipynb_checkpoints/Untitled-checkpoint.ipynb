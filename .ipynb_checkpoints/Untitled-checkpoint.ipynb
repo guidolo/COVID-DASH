{
 "cells": [
  {
   "cell_type": "code",
   "execution_count": 1,
   "metadata": {},
   "outputs": [
    {
     "name": "stdout",
     "output_type": "stream",
     "text": [
      "/Users/guidosidoni/opt/anaconda3/envs/develop/bin/python\n"
     ]
    }
   ],
   "source": [
    "!which python"
   ]
  },
  {
   "cell_type": "code",
   "execution_count": 1,
   "metadata": {},
   "outputs": [],
   "source": [
    "import pandas as pd\n",
    "import numpy as np\n",
    "import matplotlib.pyplot as plt\n",
    "import datetime\n",
    "from datetime import timedelta"
   ]
  },
  {
   "cell_type": "code",
   "execution_count": 46,
   "metadata": {},
   "outputs": [],
   "source": [
    "\n",
    "df_c = pd.read_csv('https://raw.githubusercontent.com/CSSEGISandData/COVID-19/master/csse_covid_19_data/csse_covid_19_time_series/time_series_covid19_confirmed_global.csv')\n",
    "df_d = pd.read_csv('https://raw.githubusercontent.com/CSSEGISandData/COVID-19/master/csse_covid_19_data/csse_covid_19_time_series/time_series_covid19_deaths_global.csv')\n",
    "df_r = pd.read_csv('https://raw.githubusercontent.com/CSSEGISandData/COVID-19/master/csse_covid_19_data/csse_covid_19_time_series/time_series_covid19_recovered_global.csv')\n",
    "def make_data(df):\n",
    "    df.set_index(['Province/State', 'Country/Region', 'Lat', 'Long'], inplace=True)\n",
    "    df = (df.\n",
    "         stack().\n",
    "        reset_index().\n",
    "        rename(columns={'level_4':'issue_date', 0:'cant', 'Country/Region':'Country'})\n",
    "    )\n",
    "    df = df.groupby(['Country','issue_date']).sum().drop(['Lat','Long'], axis=1).reset_index()\n",
    "    df.issue_date = pd.to_datetime(df.issue_date)\n",
    "    df = df.set_index(['issue_date','Country']).unstack()\n",
    "    df = df.loc[:, 'cant']\n",
    "    return df"
   ]
  },
  {
   "cell_type": "code",
   "execution_count": 47,
   "metadata": {},
   "outputs": [],
   "source": [
    "df_c = make_data(df_c)\n",
    "df_d = make_data(df_d)\n",
    "df_r = make_data(df_r)\n",
    "df_rate = (df_d / df_c).fillna(0).replace(np.inf, 0)\n",
    "df_act = df_c - df_d - df_r"
   ]
  },
  {
   "cell_type": "code",
   "execution_count": 99,
   "metadata": {},
   "outputs": [
    {
     "data": {
      "image/png": "[encoded data removed]",
      "text/plain": [
       "<Figure size 432x288 with 1 Axes>"
      ]
     },
     "metadata": {
      "needs_background": "light"
     },
     "output_type": "display_data"
    }
   ],
   "source": [
    "paises = ['Argentina','US']\n",
    "\n",
    "temp = pd.merge(pd.DataFrame(df_rate.unstack()).rename(columns={0:'death_rate'}),\n",
    "                pd.DataFrame(df_act.unstack()).rename(columns={0:'active'}),\n",
    "                left_index=True, right_index=True, how='inner')\n",
    "temp = temp.reset_index().drop('issue_date', axis=1)\n",
    "paises.sort()\n",
    "for pais in paises:\n",
    "    data_part = temp.loc[temp.Country== pais].sort_values('active')\n",
    "    plt.plot(data_part.active, data_part.death_rate)\n",
    "plt.legend(paises)\n",
    "plt.title('COVID19 -- Death Rate vs Active Cases')\n",
    "plt.ylabel('Death Rate')\n",
    "plt.xlabel('Active Cases')\n",
    "\n",
    "plt.show()\n"
   ]
  },
  {
   "cell_type": "code",
   "execution_count": 8,
   "metadata": {},
   "outputs": [],
   "source": [
    "import statsmodels.api as sm\n",
    "def OLS_summary(x_data):\n",
    "    x_data = temp.days.values\n",
    "    X = sm.add_constant(x_data)\n",
    "    mod = sm.OLS(np.log(y_data), X)\n",
    "    res = mod.fit()\n",
    "    print(res.summary())"
   ]
  },
  {
   "cell_type": "code",
   "execution_count": null,
   "metadata": {},
   "outputs": [],
   "source": []
  }
 ],
 "metadata": {
  "kernelspec": {
   "display_name": "Python 3",
   "language": "python",
   "name": "python3"
  },
  "language_info": {
   "codemirror_mode": {
    "name": "ipython",
    "version": 3
   },
   "file_extension": ".py",
   "mimetype": "text/x-python",
   "name": "python",
   "nbconvert_exporter": "python",
   "pygments_lexer": "ipython3",
   "version": "3.8.2"
  }
 },
 "nbformat": 4,
 "nbformat_minor": 4
}
