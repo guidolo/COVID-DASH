{
 "cells": [
  {
   "cell_type": "code",
   "execution_count": 1,
   "metadata": {},
   "outputs": [
    {
     "name": "stdout",
     "output_type": "stream",
     "text": [
      "/Users/guidosidoni/opt/anaconda3/envs/develop/bin/python\n"
     ]
    }
   ],
   "source": [
    "!which python"
   ]
  },
  {
   "cell_type": "code",
   "execution_count": 1,
   "metadata": {},
   "outputs": [],
   "source": [
    "import pandas as pd\n",
    "import numpy as np\n",
    "import matplotlib.pyplot as plt\n",
    "import datetime\n",
    "from datetime import timedelta"
   ]
  },
  {
   "cell_type": "code",
   "execution_count": 2,
   "metadata": {},
   "outputs": [],
   "source": [
    "\n",
    "df_c = pd.read_csv('https://raw.githubusercontent.com/CSSEGISandData/COVID-19/master/csse_covid_19_data/csse_covid_19_time_series/time_series_covid19_confirmed_global.csv')\n",
    "df_d = pd.read_csv('https://raw.githubusercontent.com/CSSEGISandData/COVID-19/master/csse_covid_19_data/csse_covid_19_time_series/time_series_covid19_deaths_global.csv')\n",
    "#df_r = pd.read_csv('./data/time_series_19-covid-Recovered.csv')\n",
    "def make_data(df):\n",
    "    df.set_index(['Province/State', 'Country/Region', 'Lat', 'Long'], inplace=True)\n",
    "    df = (df.\n",
    "         stack().\n",
    "        reset_index().\n",
    "        rename(columns={'level_4':'issue_date', 0:'cant', 'Country/Region':'Country'})\n",
    "    )\n",
    "    df = df.groupby(['Country','issue_date']).sum().drop(['Lat','Long'], axis=1).reset_index()\n",
    "    df.issue_date = pd.to_datetime(df.issue_date)\n",
    "    df = df.set_index(['issue_date','Country']).unstack()\n",
    "    df = df.loc[:, 'cant']\n",
    "    return df"
   ]
  },
  {
   "cell_type": "code",
   "execution_count": 3,
   "metadata": {},
   "outputs": [],
   "source": [
    "df_c = make_data(df_c)\n",
    "df_d = make_data(df_d)\n",
    "#df_r = make_data(df_r)"
   ]
  },
  {
   "cell_type": "code",
   "execution_count": 8,
   "metadata": {},
   "outputs": [],
   "source": [
    "import statsmodels.api as sm\n",
    "def OLS_summary(x_data):\n",
    "    x_data = temp.days.values\n",
    "    X = sm.add_constant(x_data)\n",
    "    mod = sm.OLS(np.log(y_data), X)\n",
    "    res = mod.fit()\n",
    "    print(res.summary())"
   ]
  },
  {
   "cell_type": "code",
   "execution_count": 35,
   "metadata": {},
   "outputs": [],
   "source": [
    "\n",
    "def daterange(start_date, N=5):\n",
    "    #start_date = datetime.fromisoformat(start_date)\n",
    "    print(start_date)\n",
    "    start_date = date(int(start_date[:4]), int(start_date[6:7]), int(start_date[8:10]))\n",
    "    print(start_date)\n",
    "    for n in range(0, N):\n",
    "        start_part = start_date + timedelta(days=n)\n",
    "        yield start_part"
   ]
  },
  {
   "cell_type": "code",
   "execution_count": 36,
   "metadata": {},
   "outputs": [],
   "source": [
    "pais = ['Japan']\n",
    "last = 30\n",
    "leave_out = 4\n",
    "forecast = 10\n",
    "\n",
    "\n",
    "def make_exponential_fiting(df, pais, last, leave_out, forecast):\n",
    "    index_real = df.loc[:,pais].index\n",
    "    y_real = df.loc[:,pais]\n",
    "\n",
    "    temp = df.loc[:,pais].replace(0, np.nan).dropna()\n",
    "    indice_train = temp.iloc[-last:-leave_out].index\n",
    "    temp = temp.reset_index(drop=True).iloc[-last:-leave_out]\n",
    "    temp = temp.reset_index(drop=True).reset_index().rename(columns={'index':'days'})\n",
    "    temp.loc[:,'days'] = temp.days\n",
    "    x_data_train = temp.days.values\n",
    "    y_data_train = temp[pais].values\n",
    "\n",
    "    fit = np.polyfit(x_data_train, np.log(y_data_train), 1)\n",
    "    print('y =  {} * {}^x'.format(np.round(np.exp(fit[1]),2), np.round(np.exp(fit[0]),2)))\n",
    "    \n",
    "    #real data\n",
    "    plt.plot(index_real, y_real, \"o\")\n",
    "\n",
    "    #fitting\n",
    "    y_fit = np.exp(fit[1]) * np.exp(fit[0]*x_data_train)\n",
    "    plt.plot(indice_train, y_fit)\n",
    "\n",
    "    #forecasting\n",
    "    last_day = x_data_train.max()\n",
    "    last_date = indice_train.max().strftime(\"%Y-%m-%d\")\n",
    "    x_forecasting = np.arange(last_day,last_day+forecast)\n",
    "    y_forecasting = np.exp(fit[1]) * np.exp(fit[0]*x_forecasting)\n",
    "    indice_forecasting = [x for x in  daterange(last_date, forecast)]\n",
    "    plt.plot(indice_forecasting, y_forecasting, '-', color='red')\n",
    "    plt.show()"
   ]
  },
  {
   "cell_type": "code",
   "execution_count": 37,
   "metadata": {},
   "outputs": [
    {
     "name": "stdout",
     "output_type": "stream",
     "text": [
      "y =  384.61 * 1.06^x\n",
      "2020-03-26\n",
      "2020-03-06\n"
     ]
    },
    {
     "data": {
      "image/png": "[encoded data removed]",
      "text/plain": [
       "<Figure size 432x288 with 1 Axes>"
      ]
     },
     "metadata": {
      "needs_background": "light"
     },
     "output_type": "display_data"
    }
   ],
   "source": [
    "make_exponential_fiting(df_c, 'Japan', 25, 2, 10)"
   ]
  },
  {
   "cell_type": "code",
   "execution_count": 22,
   "metadata": {},
   "outputs": [
    {
     "data": {
      "text/plain": [
       "datetime.date(2022, 2, 1)"
      ]
     },
     "execution_count": 22,
     "metadata": {},
     "output_type": "execute_result"
    }
   ],
   "source": [
    "from datetime import date\n",
    "string = '2022-02-01'\n",
    "date(int(string[:4]), int(string[6:7]), int(string[9:10]))"
   ]
  },
  {
   "cell_type": "code",
   "execution_count": null,
   "metadata": {},
   "outputs": [],
   "source": []
  }
 ],
 "metadata": {
  "kernelspec": {
   "display_name": "Python 3",
   "language": "python",
   "name": "python3"
  },
  "language_info": {
   "codemirror_mode": {
    "name": "ipython",
    "version": 3
   },
   "file_extension": ".py",
   "mimetype": "text/x-python",
   "name": "python",
   "nbconvert_exporter": "python",
   "pygments_lexer": "ipython3",
   "version": "3.8.2"
  }
 },
 "nbformat": 4,
 "nbformat_minor": 4
}
