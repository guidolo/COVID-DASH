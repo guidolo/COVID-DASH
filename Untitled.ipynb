{
 "cells": [
  {
   "cell_type": "code",
   "execution_count": 1,
   "metadata": {},
   "outputs": [
    {
     "name": "stdout",
     "output_type": "stream",
     "text": [
      "/Users/guidosidoni/opt/anaconda3/envs/develop/bin/python\n"
     ]
    }
   ],
   "source": [
    "!which python"
   ]
  },
  {
   "cell_type": "code",
   "execution_count": 18,
   "metadata": {},
   "outputs": [],
   "source": [
    "import pandas as pd\n",
    "import numpy as np\n",
    "import matplotlib.pyplot as plt"
   ]
  },
  {
   "cell_type": "code",
   "execution_count": 3,
   "metadata": {},
   "outputs": [],
   "source": [
    "!cp /Users/guidosidoni/Documents/GitHub/COVID-19/csse_covid_19_data/csse_covid_19_time_series/time_series_19-covid-Confirmed.csv /Users/guidosidoni/Documents/GitHub/COVID-DASH/data/\n",
    "!cp /Users/guidosidoni/Documents/GitHub/COVID-19/csse_covid_19_data/csse_covid_19_time_series/time_series_19-covid-Deaths.csv /Users/guidosidoni/Documents/GitHub/COVID-DASH/data/\n",
    "!cp /Users/guidosidoni/Documents/GitHub/COVID-19/csse_covid_19_data/csse_covid_19_time_series/time_series_19-covid-Recovered.csv /Users/guidosidoni/Documents/GitHub/COVID-DASH/data/"
   ]
  },
  {
   "cell_type": "code",
   "execution_count": 63,
   "metadata": {},
   "outputs": [],
   "source": [
    "c19data = pd.read_csv('./data/time_series_19-covid-Confirmed.csv')\n",
    "c19data_deadth = pd.read_csv('./data/time_series_19-covid-Confirmed.csv')\n",
    "c19data_recov = pd.read_csv('./data/time_series_19-covid-Recovered.csv')"
   ]
  },
  {
   "cell_type": "code",
   "execution_count": 5,
   "metadata": {},
   "outputs": [],
   "source": [
    "df_c = pd.read_csv('./data/time_series_19-covid-Confirmed.csv')\n",
    "df_d = pd.read_csv('./data/time_series_19-covid-Confirmed.csv')\n",
    "df_r = pd.read_csv('./data/time_series_19-covid-Recovered.csv')\n",
    "def make_data(df):\n",
    "    df.set_index(['Province/State', 'Country/Region', 'Lat', 'Long'], inplace=True)\n",
    "    df = (df.\n",
    "         stack().\n",
    "        reset_index().\n",
    "        rename(columns={'level_4':'issue_date', 0:'cant', 'Country/Region':'Country'})\n",
    "    )\n",
    "    df = df.groupby(['Country','issue_date']).sum().drop(['Lat','Long'], axis=1).reset_index()\n",
    "    df.issue_date = pd.to_datetime(df.issue_date)\n",
    "    df = df.set_index(['issue_date','Country']).unstack()\n",
    "    df = df.loc[:, 'cant']\n",
    "    return df"
   ]
  },
  {
   "cell_type": "code",
   "execution_count": 6,
   "metadata": {},
   "outputs": [],
   "source": [
    "    df_c = pd.read_csv('./data/time_series_19-covid-Confirmed.csv')\n",
    "    df_d = pd.read_csv('./data/time_series_19-covid-Deaths.csv')\n",
    "    df_r = pd.read_csv('./data/time_series_19-covid-Recovered.csv')\n",
    "    df_c = make_data(df_c)\n",
    "    df_d = make_data(df_d)\n",
    "    df_r = make_data(df_r)\n"
   ]
  },
  {
   "cell_type": "code",
   "execution_count": 70,
   "metadata": {},
   "outputs": [],
   "source": [
    "def rescale(df, n):\n",
    "    for x in range(0,n):\n",
    "        df = df.reset_index(drop=True).replace(x, np.nan)\n",
    "    for col in df:\n",
    "        if col == 'China':\n",
    "            df.loc[:, col] = pd.concat([df_c['China'].iloc[:-5], pd.DataFrame([0,0,0,0,0], index=[0,0,0,0,0])]).rename(columns={0:'China'}).China.sort_values().reset_index(drop=True)\n",
    "        else:\n",
    "            df.loc[:, col] = df.loc[:,col].sort_values().reset_index(drop=True)\n",
    "    return df"
   ]
  },
  {
   "cell_type": "code",
   "execution_count": null,
   "metadata": {},
   "outputs": [],
   "source": [
    "plt.ylabel"
   ]
  }
 ],
 "metadata": {
  "kernelspec": {
   "display_name": "Python 3",
   "language": "python",
   "name": "python3"
  },
  "language_info": {
   "codemirror_mode": {
    "name": "ipython",
    "version": 3
   },
   "file_extension": ".py",
   "mimetype": "text/x-python",
   "name": "python",
   "nbconvert_exporter": "python",
   "pygments_lexer": "ipython3",
   "version": "3.8.2"
  }
 },
 "nbformat": 4,
 "nbformat_minor": 4
}
